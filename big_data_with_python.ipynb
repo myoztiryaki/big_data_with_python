{
 "cells": [
  {
   "cell_type": "markdown",
   "id": "e8681547-e93a-476e-a03c-9120222ff928",
   "metadata": {},
   "source": [
    "## Büyük Veri Nedir?\n",
    "\n",
    "Geleneksel yöntemlerle işlenemeyen verilere büyük veri denir. \n",
    "\n",
    "Büyük veriyi ifade eden özellikler hacim, çeşitlilik ve hızdır. "
   ]
  },
  {
   "cell_type": "markdown",
   "id": "dbe19488-a5c4-47ec-b45a-77ffbd249a09",
   "metadata": {},
   "source": [
    "### Apache Hadoop\n",
    "Apache Hadoop açık kaynak kodlu, güvenilir, ölçeklenebilir paralel hesaplama yazılımı projesidir. \n",
    "\n",
    "Büyük veri teknolojilerinin temelini oluşturur.\n",
    "\n",
    "Geleneksel yöntemler ile etkin olarak işlenmesi mümkün olmayan verilerin işlenebilmesine olanak sağlamaktadır.\n",
    "\n",
    "Bir bilgisayar kümesinin belirli bir işi yapmak için tek bir bilgisayar gibi birlikte hareket etmesini sağlamaktadır. "
   ]
  },
  {
   "cell_type": "markdown",
   "id": "4090e489-bfdf-44c5-b589-5c248dbc6171",
   "metadata": {},
   "source": [
    "### Apache Hadoop bileşenleri \n"
   ]
  },
  {
   "cell_type": "markdown",
   "id": "7d055d99-7fd1-4ee7-8d77-fd4000e78abc",
   "metadata": {},
   "source": [
    "#### Hadoop Common\n",
    "\n",
    "Büyük veri teknolojileri yani tüm hadoop modüllerini destekleyen ortak gereksinimlerdir. \n",
    "\n",
    "#### Hadoop Dağıtık Dosya Sistemi (HDFS)\n",
    "\n",
    "Yerel dosya sistemleri olan FAT32 ve NTFS gibi bir dosya sistemidir. Bu sistemlerden farkı büyük boyutlardaki veriyi dağıtık şekilde depolamaya ve kontrol etmeye imkan sağlamaktadır. \n",
    "\n",
    "#### Hadoop YARN\n",
    "\n",
    "Kaynak yönetimi ve iş planlaması için kullanılan Apache Hadoop'un daha etkin bir şekilde kullanılmasına olanak sağlayan bir bileşendir. \n",
    "\n",
    "#### Hadoop MapReduce\n",
    "\n",
    "Büyük veri dünyasının fonksiyonel anlamda temelini oluşturan bileşendir. Aynı ağdaki dağıtık bilgisayar kümeleri üzerinde büyük veri analizi yapılabilmesi için geliştirilmiş bir programlama modelidir. \n",
    "\n",
    "##### Map Reduce Adımları (Mapping, Shuffling, Reducing)\n",
    "Input / Splitting / Mapping / Shuffling / Reducing / Merged \n",
    "\n",
    "Shuffle ve Reduce aşamalarının görevi Map aşamasında gelen veriyi işlemek ve indirgemektir. \n",
    "\n",
    "##### Apache Hadoop Faydaları \n",
    "\n",
    "Veri Saklama ve İşleme Gücü \\\n",
    "Açık kaynak \\\n",
    "Hız \\\n",
    "Esneklik \\\n",
    "Ölçeklenebilirlik \\ \n",
    "Hata toleransı\n",
    "\n",
    "Not: MapReduce görevinde diskten okuma ve diske yazma işlemi yapılır. Bu yüzden iteratif işlemler zaman alır ve kaynakları meşgul eder. MapReduce'e alternatif olarak Apache Spark getirilmiş oluyor. \n",
    "\n",
    "#### Hadoop’un Büyük Veri Araçları\n",
    "\n",
    "Hadoop’un büyük verileri işleme becerisini geliştiren açık kaynaklı birçok araç vardır.\n",
    "\n",
    "Hive: Hadoop’un dosya sisteminde depolanan büyük veri kümelerini işlemek için veri ambarıdır.\n",
    "Zookeeper: Monitoring aracıdır.\n",
    "Hbase: Hadoop için açık kaynaklı bir ilişkisiz veritabanıdır.\n",
    "Flume: Büyük miktarda log verisinin akışını sağlayan dağıtılmış bir hizmettir.\n",
    "Sqoop: Hadoop ve ilişkisel veritabanları arasında veri taşımak için kullanılan bir komut satırı aracıdır.\n",
    "Pig: Karmaşık veri dönüşümlerini Java’ya ihtiyaç olmadan gerçekleştirmeyi sağlar. Kullanılan yazılım dili Pig Latin’dir.\n",
    "Oozie: Hadoop işlerinin yönetimini kolaylaştıran planlama sistemidir.\n",
    "Hcatalog: Farklı veri işleme araçlarından gelen verileri düzenlemek için kullanılan bir depolama ve tablo yönetimi aracıdır."
   ]
  },
  {
   "cell_type": "markdown",
   "id": "f6768aa8-ff6d-452f-bd45-968316c67052",
   "metadata": {},
   "source": [
    "### Apache Spark \n",
    "\n",
    "Apache Spark küme üzerinde hızlı ve genel amaçlı bilgi işleme sistemidir. \n",
    "\n",
    "MapReduce modelinde yer alan disk bazlı çalışma sisteminin yarattığı maliyetlerden dolayı ortaya çıkmıştır. \n",
    "\n",
    "Apache Hadoop'a göre 100 kat daha hızlı çalışmaktadır.\n",
    "\n",
    "Java, Scala, Python ve R ile uygulama geliştirilebilir. \n",
    "\n",
    "Genelleştiricidir: Spark SQL, Spark MLlib, Spark Streaming, GraphX aynı uygulama da kullanılabilir. "
   ]
  },
  {
   "cell_type": "markdown",
   "id": "7bc1c385-3e6b-4953-84bd-4dc6ec140cb1",
   "metadata": {},
   "source": [
    "### Apache Spark'ın Bileşenleri\n",
    "\n",
    "#### Spark Core ve RDD's \n",
    "\n",
    "Hafıza Yönetimi \\\n",
    "Görevlerin Dağıtılması \\ \n",
    "Hata Kurtarma \\ \n",
    "Dosya Sistemlerine Erişim \\\n",
    "\n",
    "RDD's MarReduce'un alternatifidir. \n",
    "\n",
    "RDD'in Türkçesi \"Dayanıklı Dağınık Data Setler\" / \"Resilient Distributed Dataset\"\n",
    "\n",
    "Apache Spark'ın programlama modeli verinin bellek içi tutularak paralel işlenmesini ifade etmektedir ve bu da RDD's dir. \n",
    "\n",
    "RDD'de yapılan işlem veriyi RAM'e taşımak, RAM üzerinde dönüşüm işlemlerini ve gerekli iteratif işlemleri yapmak ve en son işlemler bittikten sonra veriyi tekrar diske yazmaktır. \n",
    "\n",
    "3 Aşamadan oluşur; \n",
    "1) RDD'leri yani RDD'si oluşturma.\n",
    "2) Dönüştürme\n",
    "3) Aksiyon \n",
    "\n",
    "Önemli Not: Aksiyon basamağı tetiklenmeden uygulama işlemi(execution) gerçekleşmemektedir. \n",
    "\n",
    "#### Spark SQL\n",
    "\n",
    "SQL ya da bir Dataframe API kullanarak Spark programlarında yapılandırılmış veriyi sorgulama imkanı sağlar. \n",
    "\n",
    "#### Spark MLlib\n",
    "\n",
    "Apache Spark'ın ölçeklenebilir makine öğrenmesi kütüphanesidir. Apache Spark'ın bellek içi çalışma mantığından dolayı iteratif işlemler barındıran, makine öğrenmesi gibi işlemlerde bize çözüm sunmaktadır. \n",
    "\n",
    "#### Spark Streaming \n",
    "\n",
    "Akan verinin ölçeklenebilir, yüksek hacimli ve hata toleranslı bir şekilde işlenmesine olanak sağlayan temel Spark API'sine ait bir spark uzantısıdır. \n",
    "\n",
    "#### GraphX \n",
    "\n",
    "Paralel grafik tabanlı hesaplama işlemleri için kullanılan bir kütüphanedir. \n",
    "\n"
   ]
  },
  {
   "cell_type": "markdown",
   "id": "719bee4d-e85d-408d-be9a-0962666d045d",
   "metadata": {},
   "source": [
    "##### Spark ve Jupyter Lab bağlantısı için aşağıdaki adımlar izlenir. "
   ]
  },
  {
   "cell_type": "code",
   "execution_count": 1,
   "id": "db4531f5-1958-4ad6-bf42-67e8aa162468",
   "metadata": {},
   "outputs": [
    {
     "name": "stdout",
     "output_type": "stream",
     "text": [
      "Requirement already satisfied: findspark in c:\\users\\furka\\anaconda3\\lib\\site-packages (2.0.1)\n"
     ]
    }
   ],
   "source": [
    "!pip install findspark"
   ]
  },
  {
   "cell_type": "code",
   "execution_count": 2,
   "id": "488ac9e0-d47b-4235-b566-c0222cf5d2b2",
   "metadata": {},
   "outputs": [],
   "source": [
    "import findspark"
   ]
  },
  {
   "cell_type": "code",
   "execution_count": 3,
   "id": "e767a4d3-c4a6-4746-8da4-4d5e33b8d02c",
   "metadata": {},
   "outputs": [],
   "source": [
    "findspark.init(\"C:\\spark\")"
   ]
  },
  {
   "cell_type": "code",
   "execution_count": 4,
   "id": "810909f4-8cb5-43c2-a308-ee8856d1fcef",
   "metadata": {},
   "outputs": [],
   "source": [
    "from pyspark import SparkContext"
   ]
  },
  {
   "cell_type": "markdown",
   "id": "3f1d0a62-ee29-4fae-9747-78211b295c04",
   "metadata": {},
   "source": [
    "### Spark Uygulamasının Başlatılması "
   ]
  },
  {
   "cell_type": "markdown",
   "id": "57d3993c-73d4-42d8-9a5b-c18e6fd988eb",
   "metadata": {},
   "source": [
    "Aşağıdaki adımları uyguladıktan sonra hata alırsanız Java versiyon sorunu yaşamış olabilirsiniz. Örneğin son java sürümünü indirdiğim için şu an bende hata verdi. Çözüm olarak Bu Bilgisayar'a sağ tıkla - Özellikler - Gelişmiş Sistem Ayarları - Ortam Değişkenleri - JAVA_HOME'u düzenle seçeneğine tıkla ve uyumlu java eski sürümü ekle(1.8 olan çalışıyor 20'yi kabul etmedi). İşlemleri yaptıktan sonra restart atmak gerekir. Eğer JAVA_HOME gibi Ortam değşkenleri yoksa eklenmesi gerekmektedir. Not: Path eklemelerini yapmadıysanız onları da yapın. \n"
   ]
  },
  {
   "cell_type": "code",
   "execution_count": 5,
   "id": "7e3a03be-be31-4111-9473-3770dd89d6ea",
   "metadata": {},
   "outputs": [],
   "source": [
    "import pyspark\n",
    "from pyspark.sql import SparkSession\n",
    "from pyspark.conf import SparkConf"
   ]
  },
  {
   "cell_type": "code",
   "execution_count": 6,
   "id": "a748a229-5ac9-434c-a675-777a09a59d13",
   "metadata": {},
   "outputs": [],
   "source": [
    "spark = SparkSession.builder \\\n",
    "    .master(\"local\") \\\n",
    "    .appName(\"pyspark_giris\") \\\n",
    "    .getOrCreate()\n",
    "\n",
    "sc = spark.sparkContext"
   ]
  },
  {
   "cell_type": "code",
   "execution_count": 7,
   "id": "b6b124cd-0fe5-4ec6-86a9-ccd43d4f010c",
   "metadata": {},
   "outputs": [
    {
     "data": {
      "text/html": [
       "\n",
       "        <div>\n",
       "            <p><b>SparkContext</b></p>\n",
       "\n",
       "            <p><a href=\"http://MERVE-OZTIRYAKI:4040\">Spark UI</a></p>\n",
       "\n",
       "            <dl>\n",
       "              <dt>Version</dt>\n",
       "                <dd><code>v3.2.3</code></dd>\n",
       "              <dt>Master</dt>\n",
       "                <dd><code>local</code></dd>\n",
       "              <dt>AppName</dt>\n",
       "                <dd><code>pyspark_giris</code></dd>\n",
       "            </dl>\n",
       "        </div>\n",
       "        "
      ],
      "text/plain": [
       "<SparkContext master=local appName=pyspark_giris>"
      ]
     },
     "execution_count": 7,
     "metadata": {},
     "output_type": "execute_result"
    }
   ],
   "source": [
    "sc"
   ]
  },
  {
   "cell_type": "code",
   "execution_count": 8,
   "id": "f8222450-6f4b-432c-a048-4b94da86820e",
   "metadata": {},
   "outputs": [
    {
     "data": {
      "text/plain": [
       "'3.2.3'"
      ]
     },
     "execution_count": 8,
     "metadata": {},
     "output_type": "execute_result"
    }
   ],
   "source": [
    "sc.version"
   ]
  },
  {
   "cell_type": "code",
   "execution_count": 9,
   "id": "9e8cc08e-f88f-41ee-aad4-bb778da9503f",
   "metadata": {},
   "outputs": [
    {
     "data": {
      "text/plain": [
       "'pyspark_giris'"
      ]
     },
     "execution_count": 9,
     "metadata": {},
     "output_type": "execute_result"
    }
   ],
   "source": [
    "sc.appName"
   ]
  },
  {
   "cell_type": "code",
   "execution_count": 10,
   "id": "7e5f5885-b28c-4c3d-a59b-20a2a607e774",
   "metadata": {},
   "outputs": [],
   "source": [
    "### sc.stop() yazıldığında durdurulmuş olacak. \n",
    "### Dikkat! Durdurmadan bilgisayarı kapatmayın"
   ]
  },
  {
   "cell_type": "markdown",
   "id": "ab2cd0bf-0166-4cd7-abf2-a910ab58d0cd",
   "metadata": {},
   "source": [
    "### Temel DataFrame İşlemleri "
   ]
  },
  {
   "cell_type": "code",
   "execution_count": 11,
   "id": "d4c09b31-ca51-4934-9969-3dd06432fe19",
   "metadata": {},
   "outputs": [],
   "source": [
    "spark_df = spark.read.csv(\".\\churn.csv\", header = True, inferSchema = True)"
   ]
  },
  {
   "cell_type": "code",
   "execution_count": 12,
   "id": "92e10121-6692-42d1-94e3-afbfb05aa9bd",
   "metadata": {},
   "outputs": [
    {
     "name": "stdout",
     "output_type": "stream",
     "text": [
      "root\n",
      " |-- _c0: integer (nullable = true)\n",
      " |-- Names: string (nullable = true)\n",
      " |-- Age: double (nullable = true)\n",
      " |-- Total_Purchase: double (nullable = true)\n",
      " |-- Account_Manager: integer (nullable = true)\n",
      " |-- Years: double (nullable = true)\n",
      " |-- Num_Sites: double (nullable = true)\n",
      " |-- Churn: integer (nullable = true)\n",
      "\n"
     ]
    }
   ],
   "source": [
    "spark_df.printSchema()"
   ]
  },
  {
   "cell_type": "code",
   "execution_count": 13,
   "id": "eb61dd62-2ac3-4813-b6df-dd4f5717c366",
   "metadata": {},
   "outputs": [
    {
     "data": {
      "text/plain": [
       "pyspark.sql.dataframe.DataFrame"
      ]
     },
     "execution_count": 13,
     "metadata": {},
     "output_type": "execute_result"
    }
   ],
   "source": [
    "type(spark_df)"
   ]
  },
  {
   "cell_type": "code",
   "execution_count": 14,
   "id": "c0d93be2-3b72-4928-a8ca-708c39e58dba",
   "metadata": {},
   "outputs": [
    {
     "data": {
      "text/plain": [
       "DataFrame[_c0: int, Names: string, Age: double, Total_Purchase: double, Account_Manager: int, Years: double, Num_Sites: double, Churn: int]"
      ]
     },
     "execution_count": 14,
     "metadata": {},
     "output_type": "execute_result"
    }
   ],
   "source": [
    "spark_df.cache()"
   ]
  },
  {
   "cell_type": "code",
   "execution_count": 15,
   "id": "131ed6fc-3207-48ee-8966-fb96e6bce5de",
   "metadata": {},
   "outputs": [],
   "source": [
    "import seaborn as sns\n",
    "df = sns.load_dataset(\"diamonds\")"
   ]
  },
  {
   "cell_type": "code",
   "execution_count": 16,
   "id": "96ad159f-c7f0-4ae2-a82b-9648249d2e15",
   "metadata": {},
   "outputs": [
    {
     "data": {
      "text/plain": [
       "pandas.core.frame.DataFrame"
      ]
     },
     "execution_count": 16,
     "metadata": {},
     "output_type": "execute_result"
    }
   ],
   "source": [
    "type(df)"
   ]
  },
  {
   "cell_type": "code",
   "execution_count": 17,
   "id": "ebee178e-e184-493f-ae77-e93e7342805f",
   "metadata": {},
   "outputs": [
    {
     "data": {
      "text/html": [
       "<div>\n",
       "<style scoped>\n",
       "    .dataframe tbody tr th:only-of-type {\n",
       "        vertical-align: middle;\n",
       "    }\n",
       "\n",
       "    .dataframe tbody tr th {\n",
       "        vertical-align: top;\n",
       "    }\n",
       "\n",
       "    .dataframe thead th {\n",
       "        text-align: right;\n",
       "    }\n",
       "</style>\n",
       "<table border=\"1\" class=\"dataframe\">\n",
       "  <thead>\n",
       "    <tr style=\"text-align: right;\">\n",
       "      <th></th>\n",
       "      <th>carat</th>\n",
       "      <th>cut</th>\n",
       "      <th>color</th>\n",
       "      <th>clarity</th>\n",
       "      <th>depth</th>\n",
       "      <th>table</th>\n",
       "      <th>price</th>\n",
       "      <th>x</th>\n",
       "      <th>y</th>\n",
       "      <th>z</th>\n",
       "    </tr>\n",
       "  </thead>\n",
       "  <tbody>\n",
       "    <tr>\n",
       "      <th>0</th>\n",
       "      <td>0.23</td>\n",
       "      <td>Ideal</td>\n",
       "      <td>E</td>\n",
       "      <td>SI2</td>\n",
       "      <td>61.5</td>\n",
       "      <td>55.0</td>\n",
       "      <td>326</td>\n",
       "      <td>3.95</td>\n",
       "      <td>3.98</td>\n",
       "      <td>2.43</td>\n",
       "    </tr>\n",
       "    <tr>\n",
       "      <th>1</th>\n",
       "      <td>0.21</td>\n",
       "      <td>Premium</td>\n",
       "      <td>E</td>\n",
       "      <td>SI1</td>\n",
       "      <td>59.8</td>\n",
       "      <td>61.0</td>\n",
       "      <td>326</td>\n",
       "      <td>3.89</td>\n",
       "      <td>3.84</td>\n",
       "      <td>2.31</td>\n",
       "    </tr>\n",
       "    <tr>\n",
       "      <th>2</th>\n",
       "      <td>0.23</td>\n",
       "      <td>Good</td>\n",
       "      <td>E</td>\n",
       "      <td>VS1</td>\n",
       "      <td>56.9</td>\n",
       "      <td>65.0</td>\n",
       "      <td>327</td>\n",
       "      <td>4.05</td>\n",
       "      <td>4.07</td>\n",
       "      <td>2.31</td>\n",
       "    </tr>\n",
       "    <tr>\n",
       "      <th>3</th>\n",
       "      <td>0.29</td>\n",
       "      <td>Premium</td>\n",
       "      <td>I</td>\n",
       "      <td>VS2</td>\n",
       "      <td>62.4</td>\n",
       "      <td>58.0</td>\n",
       "      <td>334</td>\n",
       "      <td>4.20</td>\n",
       "      <td>4.23</td>\n",
       "      <td>2.63</td>\n",
       "    </tr>\n",
       "    <tr>\n",
       "      <th>4</th>\n",
       "      <td>0.31</td>\n",
       "      <td>Good</td>\n",
       "      <td>J</td>\n",
       "      <td>SI2</td>\n",
       "      <td>63.3</td>\n",
       "      <td>58.0</td>\n",
       "      <td>335</td>\n",
       "      <td>4.34</td>\n",
       "      <td>4.35</td>\n",
       "      <td>2.75</td>\n",
       "    </tr>\n",
       "  </tbody>\n",
       "</table>\n",
       "</div>"
      ],
      "text/plain": [
       "   carat      cut color clarity  depth  table  price     x     y     z\n",
       "0   0.23    Ideal     E     SI2   61.5   55.0    326  3.95  3.98  2.43\n",
       "1   0.21  Premium     E     SI1   59.8   61.0    326  3.89  3.84  2.31\n",
       "2   0.23     Good     E     VS1   56.9   65.0    327  4.05  4.07  2.31\n",
       "3   0.29  Premium     I     VS2   62.4   58.0    334  4.20  4.23  2.63\n",
       "4   0.31     Good     J     SI2   63.3   58.0    335  4.34  4.35  2.75"
      ]
     },
     "execution_count": 17,
     "metadata": {},
     "output_type": "execute_result"
    }
   ],
   "source": [
    "df.head()"
   ]
  },
  {
   "cell_type": "code",
   "execution_count": 18,
   "id": "460e1ffd-b356-4f39-9c98-9a698e2abe35",
   "metadata": {},
   "outputs": [
    {
     "data": {
      "text/plain": [
       "Row(_c0=0, Names='Cameron Williams', Age=42.0, Total_Purchase=11066.8, Account_Manager=0, Years=7.22, Num_Sites=8.0, Churn=1)"
      ]
     },
     "execution_count": 18,
     "metadata": {},
     "output_type": "execute_result"
    }
   ],
   "source": [
    "spark_df.head()"
   ]
  },
  {
   "cell_type": "code",
   "execution_count": 19,
   "id": "2f1446fa-d13b-4fed-8043-73cf950d237a",
   "metadata": {},
   "outputs": [],
   "source": [
    "### Pandasta çalıştığını bildiğimiz bazı df lerin çoğu sparkta çalışmayacak. "
   ]
  },
  {
   "cell_type": "code",
   "execution_count": 20,
   "id": "c907f31e-c3e0-4734-a5f5-0ae40a0769d0",
   "metadata": {},
   "outputs": [
    {
     "data": {
      "text/plain": [
       "2"
      ]
     },
     "execution_count": 20,
     "metadata": {},
     "output_type": "execute_result"
    }
   ],
   "source": [
    "df.ndim"
   ]
  },
  {
   "cell_type": "code",
   "execution_count": 21,
   "id": "6e3bbed7-6181-4802-a245-652960fab696",
   "metadata": {},
   "outputs": [],
   "source": [
    "# spark_df.ndim Çalışmaz"
   ]
  },
  {
   "cell_type": "code",
   "execution_count": 22,
   "id": "d071ace9-b75d-4894-ac2c-c58b0ed44a30",
   "metadata": {},
   "outputs": [
    {
     "data": {
      "text/plain": [
       "Row(_c0=0, Names='Cameron Williams', Age=42.0, Total_Purchase=11066.8, Account_Manager=0, Years=7.22, Num_Sites=8.0, Churn=1)"
      ]
     },
     "execution_count": 22,
     "metadata": {},
     "output_type": "execute_result"
    }
   ],
   "source": [
    "spark_df.head()"
   ]
  },
  {
   "cell_type": "code",
   "execution_count": 24,
   "id": "b847a78f-d8e8-4dac-9830-bef6518dea17",
   "metadata": {},
   "outputs": [
    {
     "name": "stdout",
     "output_type": "stream",
     "text": [
      "+---+----------------+----+--------------+---------------+-----+---------+-----+\n",
      "|_c0|           Names| Age|Total_Purchase|Account_Manager|Years|Num_Sites|Churn|\n",
      "+---+----------------+----+--------------+---------------+-----+---------+-----+\n",
      "|  0|Cameron Williams|42.0|       11066.8|              0| 7.22|      8.0|    1|\n",
      "|  1|   Kevin Mueller|41.0|      11916.22|              0|  6.5|     11.0|    1|\n",
      "|  2|     Eric Lozano|38.0|      12884.75|              0| 6.67|     12.0|    1|\n",
      "+---+----------------+----+--------------+---------------+-----+---------+-----+\n",
      "only showing top 3 rows\n",
      "\n"
     ]
    }
   ],
   "source": [
    "spark_df.show(3, truncate = True)"
   ]
  },
  {
   "cell_type": "markdown",
   "id": "ec849629-e38a-4450-b455-2cec06258c43",
   "metadata": {},
   "source": [
    "\"head\"in sparktaki karşılığı \"show\" "
   ]
  },
  {
   "cell_type": "code",
   "execution_count": 25,
   "id": "b8baa1a2-63c8-495a-a965-334bd157f5a5",
   "metadata": {},
   "outputs": [
    {
     "data": {
      "text/plain": [
       "900"
      ]
     },
     "execution_count": 25,
     "metadata": {},
     "output_type": "execute_result"
    }
   ],
   "source": [
    "# Gözlem sayısına erişmek \n",
    "\n",
    "spark_df.count()"
   ]
  },
  {
   "cell_type": "code",
   "execution_count": 26,
   "id": "adb3b97d-872a-40ba-9be0-681e637c562f",
   "metadata": {},
   "outputs": [
    {
     "data": {
      "text/plain": [
       "['_c0',\n",
       " 'Names',\n",
       " 'Age',\n",
       " 'Total_Purchase',\n",
       " 'Account_Manager',\n",
       " 'Years',\n",
       " 'Num_Sites',\n",
       " 'Churn']"
      ]
     },
     "execution_count": 26,
     "metadata": {},
     "output_type": "execute_result"
    }
   ],
   "source": [
    "# Değişken ve değişkenlerin isimlerine erişmek\n",
    "\n",
    "spark_df.columns"
   ]
  },
  {
   "cell_type": "code",
   "execution_count": 28,
   "id": "4ea5765a-fdd1-4662-9e33-c74d8972cc79",
   "metadata": {},
   "outputs": [
    {
     "name": "stdout",
     "output_type": "stream",
     "text": [
      "+-------+------------------+-------------+-----------------+-----------------+------------------+-----------------+------------------+-------------------+\n",
      "|summary|               _c0|        Names|              Age|   Total_Purchase|   Account_Manager|            Years|         Num_Sites|              Churn|\n",
      "+-------+------------------+-------------+-----------------+-----------------+------------------+-----------------+------------------+-------------------+\n",
      "|  count|               900|          900|              900|              900|               900|              900|               900|                900|\n",
      "|   mean|             449.5|         null|41.81666666666667|10062.82403333334|0.4811111111111111| 5.27315555555555| 8.587777777777777|0.16666666666666666|\n",
      "| stddev|259.95191863111916|         null|6.127560416916251|2408.644531858096|0.4999208935073339|1.274449013194616|1.7648355920350969| 0.3728852122772358|\n",
      "|    min|                 0|   Aaron King|             22.0|            100.0|                 0|              1.0|               3.0|                  0|\n",
      "|    max|               899|Zachary Walsh|             65.0|         18026.01|                 1|             9.15|              14.0|                  1|\n",
      "+-------+------------------+-------------+-----------------+-----------------+------------------+-----------------+------------------+-------------------+\n",
      "\n"
     ]
    }
   ],
   "source": [
    "#özet istatistiklere erişmek\n",
    "\n",
    "spark_df.describe().show()"
   ]
  },
  {
   "cell_type": "code",
   "execution_count": 29,
   "id": "ef0e82d7-d41e-45f5-ac1e-951e31b73c19",
   "metadata": {},
   "outputs": [
    {
     "name": "stdout",
     "output_type": "stream",
     "text": [
      "+-------+-----------------+\n",
      "|summary|              Age|\n",
      "+-------+-----------------+\n",
      "|  count|              900|\n",
      "|   mean|41.81666666666667|\n",
      "| stddev|6.127560416916251|\n",
      "|    min|             22.0|\n",
      "|    max|             65.0|\n",
      "+-------+-----------------+\n",
      "\n"
     ]
    }
   ],
   "source": [
    "#Sadece bir değişkene erişmek \n",
    "\n",
    "spark_df.describe(\"Age\").show()"
   ]
  },
  {
   "cell_type": "code",
   "execution_count": 30,
   "id": "cda42b8a-d95c-4a3c-9507-4c60c67db962",
   "metadata": {},
   "outputs": [
    {
     "name": "stdout",
     "output_type": "stream",
     "text": [
      "+----+-------------------+\n",
      "| Age|              Names|\n",
      "+----+-------------------+\n",
      "|42.0|   Cameron Williams|\n",
      "|41.0|      Kevin Mueller|\n",
      "|38.0|        Eric Lozano|\n",
      "|42.0|      Phillip White|\n",
      "|37.0|     Cynthia Norton|\n",
      "|48.0|   Jessica Williams|\n",
      "|44.0|        Eric Butler|\n",
      "|32.0|      Zachary Walsh|\n",
      "|43.0|        Ashlee Carr|\n",
      "|40.0|     Jennifer Lynch|\n",
      "|30.0|       Paula Harris|\n",
      "|45.0|     Bruce Phillips|\n",
      "|45.0|       Craig Garner|\n",
      "|40.0|       Nicole Olson|\n",
      "|41.0|     Harold Griffin|\n",
      "|38.0|       James Wright|\n",
      "|45.0|      Doris Wilkins|\n",
      "|43.0|Katherine Carpenter|\n",
      "|53.0|     Lindsay Martin|\n",
      "|46.0|        Kathy Curry|\n",
      "+----+-------------------+\n",
      "only showing top 20 rows\n",
      "\n"
     ]
    }
   ],
   "source": [
    "# Veri setinin içinden değişken seçmek istersek. \n",
    "# (Burada alışık olunan köşeli parantez yok)\n",
    "\n",
    "spark_df.select(\"Age\",\"Names\").show()"
   ]
  },
  {
   "cell_type": "code",
   "execution_count": 33,
   "id": "a45b8691-2bc4-4f92-b9f9-2349b8a18663",
   "metadata": {},
   "outputs": [
    {
     "data": {
      "text/plain": [
       "524"
      ]
     },
     "execution_count": 33,
     "metadata": {},
     "output_type": "execute_result"
    }
   ],
   "source": [
    "# Filteleme, Age değişkeninin 40'tan büyük olanlarını sırala. \n",
    "\n",
    "spark_df.filter(spark_df.Age > 40).count()"
   ]
  },
  {
   "cell_type": "code",
   "execution_count": 35,
   "id": "319807cb-1116-4ffd-a929-6d4d18539697",
   "metadata": {},
   "outputs": [
    {
     "name": "stdout",
     "output_type": "stream",
     "text": [
      "+-----+-----+\n",
      "|Churn|count|\n",
      "+-----+-----+\n",
      "|    1|  150|\n",
      "|    0|  750|\n",
      "+-----+-----+\n",
      "\n"
     ]
    }
   ],
   "source": [
    "# Groupby işlemi gerçekleştirmek\n",
    "# Hangi sınıftan kaçar tane var. 1 markayı terk eden 150, 0 etmeyenler 750. \n",
    "\n",
    "spark_df.groupby(\"Churn\").count().show()"
   ]
  },
  {
   "cell_type": "code",
   "execution_count": 36,
   "id": "68c471d7-c93c-48d9-8750-b9fd27640668",
   "metadata": {},
   "outputs": [
    {
     "name": "stdout",
     "output_type": "stream",
     "text": [
      "+-----+-----------------+\n",
      "|Churn|         avg(Age)|\n",
      "+-----+-----------------+\n",
      "|    1|42.99333333333333|\n",
      "|    0|41.58133333333333|\n",
      "+-----+-----------------+\n",
      "\n"
     ]
    }
   ],
   "source": [
    "# İleri aggregation işlemkeri\n",
    "# Churn'un yaş ortalamaları\n",
    "\n",
    "spark_df.groupby(\"Churn\").agg({\"Age\":\"mean\"}).show()"
   ]
  },
  {
   "cell_type": "markdown",
   "id": "6d660c8b-8213-4576-9f4a-5b6424d1f015",
   "metadata": {},
   "source": [
    "### SQL İşlemleri "
   ]
  },
  {
   "cell_type": "code",
   "execution_count": 37,
   "id": "ef749e5b-a63e-4631-b07f-56138c24f798",
   "metadata": {},
   "outputs": [],
   "source": [
    "# spark_df.registerTempTable(\"tbl_df\") \n",
    "\n",
    "# fonksiyon değişmiş. Bu tarz şeylerle karşılaşırsanız googledan\n",
    "# kolayca hata sorgulatılarak değştirilmiş fonksiyon görülebilir. "
   ]
  },
  {
   "cell_type": "code",
   "execution_count": 43,
   "id": "b458ba21-4133-4e43-a6ba-6bbfff0ad782",
   "metadata": {},
   "outputs": [],
   "source": [
    "# Spark Dataframe'ini geçici view tablosuna dönüştürdük.\n",
    "\n",
    "spark_df.createOrReplaceTempView(\"tbl_df\")"
   ]
  },
  {
   "cell_type": "code",
   "execution_count": 44,
   "id": "863c4e48-930d-4ade-8dde-375eb68b1bc7",
   "metadata": {},
   "outputs": [
    {
     "name": "stdout",
     "output_type": "stream",
     "text": [
      "+---------+\n",
      "|namespace|\n",
      "+---------+\n",
      "|  default|\n",
      "+---------+\n",
      "\n"
     ]
    }
   ],
   "source": [
    "spark.sql(\"show databases\").show()"
   ]
  },
  {
   "cell_type": "code",
   "execution_count": 45,
   "id": "c0a8a58a-2581-410d-82c6-92f34ffc4a68",
   "metadata": {},
   "outputs": [
    {
     "name": "stdout",
     "output_type": "stream",
     "text": [
      "+---------+---------+-----------+\n",
      "|namespace|tableName|isTemporary|\n",
      "+---------+---------+-----------+\n",
      "|         |   tbl_df|       true|\n",
      "+---------+---------+-----------+\n",
      "\n"
     ]
    }
   ],
   "source": [
    "spark.sql(\"show tables\").show()"
   ]
  },
  {
   "cell_type": "code",
   "execution_count": 46,
   "id": "c0f0b147-4ed1-4858-9899-e27cd23670c8",
   "metadata": {},
   "outputs": [
    {
     "name": "stdout",
     "output_type": "stream",
     "text": [
      "+----+\n",
      "| Age|\n",
      "+----+\n",
      "|42.0|\n",
      "|41.0|\n",
      "|38.0|\n",
      "|42.0|\n",
      "|37.0|\n",
      "+----+\n",
      "only showing top 5 rows\n",
      "\n"
     ]
    }
   ],
   "source": [
    "# 5 Satır Age değerini tablodan getirmiş oluyoruz. \n",
    "\n",
    "spark.sql(\"select Age from tbl_df\").show(5)"
   ]
  },
  {
   "cell_type": "code",
   "execution_count": 47,
   "id": "351a41cd-ef6d-4a53-8d14-c2917c684159",
   "metadata": {},
   "outputs": [
    {
     "name": "stdout",
     "output_type": "stream",
     "text": [
      "+-----+-----------------+\n",
      "|Churn|        mean(Age)|\n",
      "+-----+-----------------+\n",
      "|    1|42.99333333333333|\n",
      "|    0|41.58133333333333|\n",
      "+-----+-----------------+\n",
      "\n"
     ]
    }
   ],
   "source": [
    "spark.sql(\"select Churn, mean(Age) from tbl_df group by Churn\").show()"
   ]
  },
  {
   "cell_type": "markdown",
   "id": "79209c4c-4327-4258-bd4f-365b3c76cd4f",
   "metadata": {},
   "source": [
    "### Büyük Veride Görselleştirme \n",
    "\n",
    "Görselleştirme işlemi yapmak istiyorsanız veriyi önce spark data frame veya sql tarafında indirgenip öyle işlem yapılması daha sağlıklı olacaktır. \n",
    "(Büyük veriyi locak makinemizde görselleştirmemiz mümkün değildir çünkü boyut zaten yüksektir, lokalimizde işleyemediğimiz veridir. )"
   ]
  },
  {
   "cell_type": "code",
   "execution_count": 48,
   "id": "450bebe5-865a-4c72-8fa4-5ed446c9ad66",
   "metadata": {},
   "outputs": [],
   "source": [
    "import matplotlib.pyplot as plt\n",
    "import seaborn as sns"
   ]
  },
  {
   "cell_type": "code",
   "execution_count": 49,
   "id": "1e87b495-8026-4c55-9430-3f23ed6ad850",
   "metadata": {},
   "outputs": [],
   "source": [
    "# indirgeme işlemi \n",
    "\n",
    "sdf = spark_df.toPandas()"
   ]
  },
  {
   "cell_type": "code",
   "execution_count": 50,
   "id": "6f4bc433-d0e3-4c99-b30e-d218c00b8870",
   "metadata": {},
   "outputs": [
    {
     "data": {
      "text/html": [
       "<div>\n",
       "<style scoped>\n",
       "    .dataframe tbody tr th:only-of-type {\n",
       "        vertical-align: middle;\n",
       "    }\n",
       "\n",
       "    .dataframe tbody tr th {\n",
       "        vertical-align: top;\n",
       "    }\n",
       "\n",
       "    .dataframe thead th {\n",
       "        text-align: right;\n",
       "    }\n",
       "</style>\n",
       "<table border=\"1\" class=\"dataframe\">\n",
       "  <thead>\n",
       "    <tr style=\"text-align: right;\">\n",
       "      <th></th>\n",
       "      <th>_c0</th>\n",
       "      <th>Names</th>\n",
       "      <th>Age</th>\n",
       "      <th>Total_Purchase</th>\n",
       "      <th>Account_Manager</th>\n",
       "      <th>Years</th>\n",
       "      <th>Num_Sites</th>\n",
       "      <th>Churn</th>\n",
       "    </tr>\n",
       "  </thead>\n",
       "  <tbody>\n",
       "    <tr>\n",
       "      <th>0</th>\n",
       "      <td>0</td>\n",
       "      <td>Cameron Williams</td>\n",
       "      <td>42.0</td>\n",
       "      <td>11066.80</td>\n",
       "      <td>0</td>\n",
       "      <td>7.22</td>\n",
       "      <td>8.0</td>\n",
       "      <td>1</td>\n",
       "    </tr>\n",
       "    <tr>\n",
       "      <th>1</th>\n",
       "      <td>1</td>\n",
       "      <td>Kevin Mueller</td>\n",
       "      <td>41.0</td>\n",
       "      <td>11916.22</td>\n",
       "      <td>0</td>\n",
       "      <td>6.50</td>\n",
       "      <td>11.0</td>\n",
       "      <td>1</td>\n",
       "    </tr>\n",
       "    <tr>\n",
       "      <th>2</th>\n",
       "      <td>2</td>\n",
       "      <td>Eric Lozano</td>\n",
       "      <td>38.0</td>\n",
       "      <td>12884.75</td>\n",
       "      <td>0</td>\n",
       "      <td>6.67</td>\n",
       "      <td>12.0</td>\n",
       "      <td>1</td>\n",
       "    </tr>\n",
       "    <tr>\n",
       "      <th>3</th>\n",
       "      <td>3</td>\n",
       "      <td>Phillip White</td>\n",
       "      <td>42.0</td>\n",
       "      <td>8010.76</td>\n",
       "      <td>0</td>\n",
       "      <td>6.71</td>\n",
       "      <td>10.0</td>\n",
       "      <td>1</td>\n",
       "    </tr>\n",
       "    <tr>\n",
       "      <th>4</th>\n",
       "      <td>4</td>\n",
       "      <td>Cynthia Norton</td>\n",
       "      <td>37.0</td>\n",
       "      <td>9191.58</td>\n",
       "      <td>0</td>\n",
       "      <td>5.56</td>\n",
       "      <td>9.0</td>\n",
       "      <td>1</td>\n",
       "    </tr>\n",
       "  </tbody>\n",
       "</table>\n",
       "</div>"
      ],
      "text/plain": [
       "   _c0             Names   Age  Total_Purchase  Account_Manager  Years  \\\n",
       "0    0  Cameron Williams  42.0        11066.80                0   7.22   \n",
       "1    1     Kevin Mueller  41.0        11916.22                0   6.50   \n",
       "2    2       Eric Lozano  38.0        12884.75                0   6.67   \n",
       "3    3     Phillip White  42.0         8010.76                0   6.71   \n",
       "4    4    Cynthia Norton  37.0         9191.58                0   5.56   \n",
       "\n",
       "   Num_Sites  Churn  \n",
       "0        8.0      1  \n",
       "1       11.0      1  \n",
       "2       12.0      1  \n",
       "3       10.0      1  \n",
       "4        9.0      1  "
      ]
     },
     "execution_count": 50,
     "metadata": {},
     "output_type": "execute_result"
    }
   ],
   "source": [
    "sdf.head()"
   ]
  },
  {
   "cell_type": "code",
   "execution_count": 51,
   "id": "4b9bc29e-7251-414d-aa78-2a8461533761",
   "metadata": {},
   "outputs": [
    {
     "data": {
      "image/png": "[encoded data removed]",
      "text/plain": [
       "<Figure size 640x480 with 1 Axes>"
      ]
     },
     "metadata": {},
     "output_type": "display_data"
    }
   ],
   "source": [
    "sns.barplot(x= \"Churn\", y = sdf.Churn.index, data = sdf); "
   ]
  },
  {
   "cell_type": "code",
   "execution_count": 53,
   "id": "b444fe38-21f7-48b9-94b1-10f1b057fb41",
   "metadata": {},
   "outputs": [],
   "source": [
    "#Pandas dataframeine dönüştürmüş oluyorum Churn değişkenini. \n",
    "\n",
    "a = spark_df.groupby(\"Churn\").count().toPandas()"
   ]
  },
  {
   "cell_type": "code",
   "execution_count": 54,
   "id": "618f12c1-2943-40cd-a066-178060728814",
   "metadata": {},
   "outputs": [
    {
     "data": {
      "text/plain": [
       "pandas.core.frame.DataFrame"
      ]
     },
     "execution_count": 54,
     "metadata": {},
     "output_type": "execute_result"
    }
   ],
   "source": [
    "type(a)"
   ]
  },
  {
   "cell_type": "markdown",
   "id": "212b17bb-6bd8-4699-aab1-15b6bccc4c82",
   "metadata": {},
   "source": [
    "## Makine Öğrenmesi: Veri Ön İşleme "
   ]
  },
  {
   "cell_type": "code",
   "execution_count": 57,
   "id": "7481a151-c95a-457f-9e98-21ae80e85c2b",
   "metadata": {},
   "outputs": [],
   "source": [
    "spark_df = spark.read.csv(\"./churn.csv\", header = True, inferSchema = True)"
   ]
  },
  {
   "cell_type": "code",
   "execution_count": 58,
   "id": "849616e7-3dbb-4547-8907-948884296571",
   "metadata": {},
   "outputs": [
    {
     "name": "stdout",
     "output_type": "stream",
     "text": [
      "+---+----------------+----+--------------+---------------+-----+---------+-----+\n",
      "|_c0|           Names| Age|Total_Purchase|Account_Manager|Years|Num_Sites|Churn|\n",
      "+---+----------------+----+--------------+---------------+-----+---------+-----+\n",
      "|  0|Cameron Williams|42.0|       11066.8|              0| 7.22|      8.0|    1|\n",
      "|  1|   Kevin Mueller|41.0|      11916.22|              0|  6.5|     11.0|    1|\n",
      "|  2|     Eric Lozano|38.0|      12884.75|              0| 6.67|     12.0|    1|\n",
      "|  3|   Phillip White|42.0|       8010.76|              0| 6.71|     10.0|    1|\n",
      "|  4|  Cynthia Norton|37.0|       9191.58|              0| 5.56|      9.0|    1|\n",
      "+---+----------------+----+--------------+---------------+-----+---------+-----+\n",
      "only showing top 5 rows\n",
      "\n"
     ]
    }
   ],
   "source": [
    "spark_df.show(5)"
   ]
  },
  {
   "cell_type": "code",
   "execution_count": 59,
   "id": "e9b26cae-c7b5-4853-a56f-a9bf97d08aff",
   "metadata": {},
   "outputs": [],
   "source": [
    "# İsimlendirmeleri önce standart hale getireceğiz. Tüm harfler küçülecek. \n",
    "\n",
    "spark_df = spark_df.toDF(*[c.lower() for c in spark_df.columns])"
   ]
  },
  {
   "cell_type": "code",
   "execution_count": 60,
   "id": "1c2255f0-a467-4236-84df-689319028f3a",
   "metadata": {},
   "outputs": [
    {
     "name": "stdout",
     "output_type": "stream",
     "text": [
      "+---+----------------+----+--------------+---------------+-----+---------+-----+\n",
      "|_c0|           names| age|total_purchase|account_manager|years|num_sites|churn|\n",
      "+---+----------------+----+--------------+---------------+-----+---------+-----+\n",
      "|  0|Cameron Williams|42.0|       11066.8|              0| 7.22|      8.0|    1|\n",
      "|  1|   Kevin Mueller|41.0|      11916.22|              0|  6.5|     11.0|    1|\n",
      "|  2|     Eric Lozano|38.0|      12884.75|              0| 6.67|     12.0|    1|\n",
      "|  3|   Phillip White|42.0|       8010.76|              0| 6.71|     10.0|    1|\n",
      "|  4|  Cynthia Norton|37.0|       9191.58|              0| 5.56|      9.0|    1|\n",
      "+---+----------------+----+--------------+---------------+-----+---------+-----+\n",
      "only showing top 5 rows\n",
      "\n"
     ]
    }
   ],
   "source": [
    "spark_df.show(5)"
   ]
  },
  {
   "cell_type": "code",
   "execution_count": 62,
   "id": "c3d7e8b0-e001-451d-86a0-db127d5c1af2",
   "metadata": {},
   "outputs": [],
   "source": [
    "#_co olan değişkenin adını düzeltme işlemi. \n",
    "\n",
    "spark_df = spark_df.withColumnRenamed(\"_c0\", \"index\")"
   ]
  },
  {
   "cell_type": "code",
   "execution_count": 63,
   "id": "76f7ddf9-aaee-4e6f-91e1-c01a3f8942ba",
   "metadata": {},
   "outputs": [
    {
     "name": "stdout",
     "output_type": "stream",
     "text": [
      "+-----+----------------+----+--------------+---------------+-----+---------+-----+\n",
      "|index|           names| age|total_purchase|account_manager|years|num_sites|churn|\n",
      "+-----+----------------+----+--------------+---------------+-----+---------+-----+\n",
      "|    0|Cameron Williams|42.0|       11066.8|              0| 7.22|      8.0|    1|\n",
      "|    1|   Kevin Mueller|41.0|      11916.22|              0|  6.5|     11.0|    1|\n",
      "|    2|     Eric Lozano|38.0|      12884.75|              0| 6.67|     12.0|    1|\n",
      "|    3|   Phillip White|42.0|       8010.76|              0| 6.71|     10.0|    1|\n",
      "|    4|  Cynthia Norton|37.0|       9191.58|              0| 5.56|      9.0|    1|\n",
      "+-----+----------------+----+--------------+---------------+-----+---------+-----+\n",
      "only showing top 5 rows\n",
      "\n"
     ]
    }
   ],
   "source": [
    "spark_df.show(5)"
   ]
  },
  {
   "cell_type": "code",
   "execution_count": 64,
   "id": "1b65b287-6aba-45b9-9f04-35b93433ed9a",
   "metadata": {},
   "outputs": [
    {
     "data": {
      "text/plain": [
       "900"
      ]
     },
     "execution_count": 64,
     "metadata": {},
     "output_type": "execute_result"
    }
   ],
   "source": [
    "# gözlem sayılarına erişmek için\n",
    "\n",
    "spark_df.count()"
   ]
  },
  {
   "cell_type": "code",
   "execution_count": 65,
   "id": "0a033f21-6e93-413e-88e7-0990cd28bf22",
   "metadata": {},
   "outputs": [
    {
     "data": {
      "text/plain": [
       "8"
      ]
     },
     "execution_count": 65,
     "metadata": {},
     "output_type": "execute_result"
    }
   ],
   "source": [
    "# değişkenlerin sayılarına erişmek için\n",
    "\n",
    "len(spark_df.columns)"
   ]
  },
  {
   "cell_type": "code",
   "execution_count": 66,
   "id": "a7299eb1-1a46-456b-9f4a-dda5865d37ff",
   "metadata": {},
   "outputs": [
    {
     "data": {
      "text/plain": [
       "['index',\n",
       " 'names',\n",
       " 'age',\n",
       " 'total_purchase',\n",
       " 'account_manager',\n",
       " 'years',\n",
       " 'num_sites',\n",
       " 'churn']"
      ]
     },
     "execution_count": 66,
     "metadata": {},
     "output_type": "execute_result"
    }
   ],
   "source": [
    "# değişkenlerin isimlerine erişmek \n",
    "\n",
    "spark_df.columns"
   ]
  },
  {
   "cell_type": "code",
   "execution_count": 68,
   "id": "460048d9-7403-4d08-8e71-035135d81f4c",
   "metadata": {},
   "outputs": [
    {
     "name": "stdout",
     "output_type": "stream",
     "text": [
      "+-------+------------------+-------------+-----------------+-----------------+------------------+-----------------+------------------+-------------------+\n",
      "|summary|             index|        names|              age|   total_purchase|   account_manager|            years|         num_sites|              churn|\n",
      "+-------+------------------+-------------+-----------------+-----------------+------------------+-----------------+------------------+-------------------+\n",
      "|  count|               900|          900|              900|              900|               900|              900|               900|                900|\n",
      "|   mean|             449.5|         null|41.81666666666667|10062.82403333334|0.4811111111111111| 5.27315555555555| 8.587777777777777|0.16666666666666666|\n",
      "| stddev|259.95191863111916|         null|6.127560416916251|2408.644531858096|0.4999208935073339|1.274449013194616|1.7648355920350969| 0.3728852122772358|\n",
      "|    min|                 0|   Aaron King|             22.0|            100.0|                 0|              1.0|               3.0|                  0|\n",
      "|    max|               899|Zachary Walsh|             65.0|         18026.01|                 1|             9.15|              14.0|                  1|\n",
      "+-------+------------------+-------------+-----------------+-----------------+------------------+-----------------+------------------+-------------------+\n",
      "\n"
     ]
    }
   ],
   "source": [
    "# değişkenlerin betimsel istatistikleri. \n",
    "\n",
    "spark_df.describe().show()"
   ]
  },
  {
   "cell_type": "code",
   "execution_count": 72,
   "id": "68ac7bce-0e95-4640-b8bf-471d60cd75b1",
   "metadata": {},
   "outputs": [
    {
     "data": {
      "text/html": [
       "<div>\n",
       "<style scoped>\n",
       "    .dataframe tbody tr th:only-of-type {\n",
       "        vertical-align: middle;\n",
       "    }\n",
       "\n",
       "    .dataframe tbody tr th {\n",
       "        vertical-align: top;\n",
       "    }\n",
       "\n",
       "    .dataframe thead th {\n",
       "        text-align: right;\n",
       "    }\n",
       "</style>\n",
       "<table border=\"1\" class=\"dataframe\">\n",
       "  <thead>\n",
       "    <tr style=\"text-align: right;\">\n",
       "      <th></th>\n",
       "      <th>0</th>\n",
       "      <th>1</th>\n",
       "      <th>2</th>\n",
       "      <th>3</th>\n",
       "      <th>4</th>\n",
       "    </tr>\n",
       "  </thead>\n",
       "  <tbody>\n",
       "    <tr>\n",
       "      <th>summary</th>\n",
       "      <td>count</td>\n",
       "      <td>mean</td>\n",
       "      <td>stddev</td>\n",
       "      <td>min</td>\n",
       "      <td>max</td>\n",
       "    </tr>\n",
       "    <tr>\n",
       "      <th>age</th>\n",
       "      <td>900</td>\n",
       "      <td>41.81666666666667</td>\n",
       "      <td>6.127560416916251</td>\n",
       "      <td>22.0</td>\n",
       "      <td>65.0</td>\n",
       "    </tr>\n",
       "    <tr>\n",
       "      <th>total_purchase</th>\n",
       "      <td>900</td>\n",
       "      <td>10062.82403333334</td>\n",
       "      <td>2408.644531858096</td>\n",
       "      <td>100.0</td>\n",
       "      <td>18026.01</td>\n",
       "    </tr>\n",
       "    <tr>\n",
       "      <th>account_manager</th>\n",
       "      <td>900</td>\n",
       "      <td>0.4811111111111111</td>\n",
       "      <td>0.4999208935073339</td>\n",
       "      <td>0</td>\n",
       "      <td>1</td>\n",
       "    </tr>\n",
       "    <tr>\n",
       "      <th>years</th>\n",
       "      <td>900</td>\n",
       "      <td>5.27315555555555</td>\n",
       "      <td>1.274449013194616</td>\n",
       "      <td>1.0</td>\n",
       "      <td>9.15</td>\n",
       "    </tr>\n",
       "    <tr>\n",
       "      <th>num_sites</th>\n",
       "      <td>900</td>\n",
       "      <td>8.587777777777777</td>\n",
       "      <td>1.7648355920350969</td>\n",
       "      <td>3.0</td>\n",
       "      <td>14.0</td>\n",
       "    </tr>\n",
       "    <tr>\n",
       "      <th>churn</th>\n",
       "      <td>900</td>\n",
       "      <td>0.16666666666666666</td>\n",
       "      <td>0.3728852122772358</td>\n",
       "      <td>0</td>\n",
       "      <td>1</td>\n",
       "    </tr>\n",
       "  </tbody>\n",
       "</table>\n",
       "</div>"
      ],
      "text/plain": [
       "                     0                    1                   2      3  \\\n",
       "summary          count                 mean              stddev    min   \n",
       "age                900    41.81666666666667   6.127560416916251   22.0   \n",
       "total_purchase     900    10062.82403333334   2408.644531858096  100.0   \n",
       "account_manager    900   0.4811111111111111  0.4999208935073339      0   \n",
       "years              900     5.27315555555555   1.274449013194616    1.0   \n",
       "num_sites          900    8.587777777777777  1.7648355920350969    3.0   \n",
       "churn              900  0.16666666666666666  0.3728852122772358      0   \n",
       "\n",
       "                        4  \n",
       "summary               max  \n",
       "age                  65.0  \n",
       "total_purchase   18026.01  \n",
       "account_manager         1  \n",
       "years                9.15  \n",
       "num_sites            14.0  \n",
       "churn                   1  "
      ]
     },
     "execution_count": 72,
     "metadata": {},
     "output_type": "execute_result"
    }
   ],
   "source": [
    "# üsttekinin daha düzgün şekle sokmak için\n",
    "\n",
    "spark_df.select(\"age\",\"total_purchase\", \"account_manager\", \"years\", \"num_sites\",\n",
    "                \"churn\").describe().toPandas().transpose()"
   ]
  },
  {
   "cell_type": "code",
   "execution_count": 73,
   "id": "e7b67d1e-9a03-442d-ba87-0c897030ee21",
   "metadata": {},
   "outputs": [],
   "source": [
    "# Örnek eksi gözlemlerden kurtulmak istiyor isek\n",
    "\n",
    "spark_df = spark_df.dropna()"
   ]
  },
  {
   "cell_type": "code",
   "execution_count": 74,
   "id": "93b41550-07e8-4417-817b-b97d2b9fa419",
   "metadata": {},
   "outputs": [],
   "source": [
    "# farklı bir değişken üretmek istiyor isek\n",
    "\n",
    "spark_df = spark_df.withColumn(\"age_kare\", spark_df.age**2)"
   ]
  },
  {
   "cell_type": "code",
   "execution_count": 75,
   "id": "ac4264e6-8187-47fd-8d25-fa74b42638cf",
   "metadata": {},
   "outputs": [
    {
     "name": "stdout",
     "output_type": "stream",
     "text": [
      "+-----+----------------+----+--------------+---------------+-----+---------+-----+--------+\n",
      "|index|           names| age|total_purchase|account_manager|years|num_sites|churn|age_kare|\n",
      "+-----+----------------+----+--------------+---------------+-----+---------+-----+--------+\n",
      "|    0|Cameron Williams|42.0|       11066.8|              0| 7.22|      8.0|    1|  1764.0|\n",
      "|    1|   Kevin Mueller|41.0|      11916.22|              0|  6.5|     11.0|    1|  1681.0|\n",
      "|    2|     Eric Lozano|38.0|      12884.75|              0| 6.67|     12.0|    1|  1444.0|\n",
      "+-----+----------------+----+--------------+---------------+-----+---------+-----+--------+\n",
      "only showing top 3 rows\n",
      "\n"
     ]
    }
   ],
   "source": [
    "spark_df.show(3)"
   ]
  },
  {
   "cell_type": "code",
   "execution_count": 76,
   "id": "3dbf7da2-3d87-424f-8c71-b2c135b49e80",
   "metadata": {},
   "outputs": [],
   "source": [
    "# bagimli degiskeni belirtme "
   ]
  },
  {
   "cell_type": "code",
   "execution_count": 79,
   "id": "ca7e23d2-4dab-4342-aff7-22c1a9e23409",
   "metadata": {},
   "outputs": [],
   "source": [
    "from pyspark.ml.feature import StringIndexer"
   ]
  },
  {
   "cell_type": "code",
   "execution_count": 81,
   "id": "1b5a10ef-8452-4543-abdb-485557e534d2",
   "metadata": {},
   "outputs": [],
   "source": [
    "stringIndexer = StringIndexer(inputCol = \"churn\", outputCol = \"label\")\n",
    "mod = stringIndexer.fit(spark_df)\n",
    "indexed = mod.transform(spark_df)\n",
    "spark_df = indexed.withColumn(\"label\", indexed[\"label\"].cast(\"integer\"))"
   ]
  },
  {
   "cell_type": "code",
   "execution_count": 82,
   "id": "1b58872e-e954-4b11-b43d-337815fbfcf5",
   "metadata": {},
   "outputs": [
    {
     "name": "stdout",
     "output_type": "stream",
     "text": [
      "+-----+----------------+----+--------------+---------------+-----+---------+-----+--------+-----+\n",
      "|index|           names| age|total_purchase|account_manager|years|num_sites|churn|age_kare|label|\n",
      "+-----+----------------+----+--------------+---------------+-----+---------+-----+--------+-----+\n",
      "|    0|Cameron Williams|42.0|       11066.8|              0| 7.22|      8.0|    1|  1764.0|    1|\n",
      "|    1|   Kevin Mueller|41.0|      11916.22|              0|  6.5|     11.0|    1|  1681.0|    1|\n",
      "|    2|     Eric Lozano|38.0|      12884.75|              0| 6.67|     12.0|    1|  1444.0|    1|\n",
      "+-----+----------------+----+--------------+---------------+-----+---------+-----+--------+-----+\n",
      "only showing top 3 rows\n",
      "\n"
     ]
    }
   ],
   "source": [
    "spark_df.show(3)"
   ]
  },
  {
   "cell_type": "code",
   "execution_count": 83,
   "id": "b55b9ae9-7d28-4b24-978b-ff71f26b8d1d",
   "metadata": {},
   "outputs": [],
   "source": [
    "#bagımsız degiskenler"
   ]
  },
  {
   "cell_type": "code",
   "execution_count": 84,
   "id": "917d0a50-aede-4189-bd56-6e3c03eba5de",
   "metadata": {},
   "outputs": [],
   "source": [
    "from pyspark.ml.feature import VectorAssembler"
   ]
  },
  {
   "cell_type": "code",
   "execution_count": 85,
   "id": "b95df08c-c291-4de1-9898-ebfcdf6caf65",
   "metadata": {},
   "outputs": [
    {
     "data": {
      "text/plain": [
       "['index',\n",
       " 'names',\n",
       " 'age',\n",
       " 'total_purchase',\n",
       " 'account_manager',\n",
       " 'years',\n",
       " 'num_sites',\n",
       " 'churn',\n",
       " 'age_kare',\n",
       " 'label']"
      ]
     },
     "execution_count": 85,
     "metadata": {},
     "output_type": "execute_result"
    }
   ],
   "source": [
    "spark_df.columns"
   ]
  },
  {
   "cell_type": "code",
   "execution_count": 86,
   "id": "cd3f6e10-3055-45d3-b51a-7ddfb9c52d39",
   "metadata": {},
   "outputs": [],
   "source": [
    "bagimsiz_degiskenler = [\"age\", \"total_purchase\", \"account_manager\", \"years\",\n",
    "                        \"num_sites\"]"
   ]
  },
  {
   "cell_type": "code",
   "execution_count": 89,
   "id": "267fa107-2f8d-4642-9fdf-92b54ea71c8a",
   "metadata": {},
   "outputs": [],
   "source": [
    "vectorAssembler = VectorAssembler(inputCols = bagimsiz_degiskenler, outputCol = \"features\")\n",
    "va_df = vectorAssembler.transform(spark_df)"
   ]
  },
  {
   "cell_type": "code",
   "execution_count": 90,
   "id": "9754c5ef-dcc6-46f4-9afe-6c96842551f6",
   "metadata": {},
   "outputs": [
    {
     "name": "stdout",
     "output_type": "stream",
     "text": [
      "+-----+----------------+----+--------------+---------------+-----+---------+-----+--------+-----+--------------------+\n",
      "|index|           names| age|total_purchase|account_manager|years|num_sites|churn|age_kare|label|            features|\n",
      "+-----+----------------+----+--------------+---------------+-----+---------+-----+--------+-----+--------------------+\n",
      "|    0|Cameron Williams|42.0|       11066.8|              0| 7.22|      8.0|    1|  1764.0|    1|[42.0,11066.8,0.0...|\n",
      "|    1|   Kevin Mueller|41.0|      11916.22|              0|  6.5|     11.0|    1|  1681.0|    1|[41.0,11916.22,0....|\n",
      "|    2|     Eric Lozano|38.0|      12884.75|              0| 6.67|     12.0|    1|  1444.0|    1|[38.0,12884.75,0....|\n",
      "+-----+----------------+----+--------------+---------------+-----+---------+-----+--------+-----+--------------------+\n",
      "only showing top 3 rows\n",
      "\n"
     ]
    }
   ],
   "source": [
    "va_df.show(3)"
   ]
  },
  {
   "cell_type": "code",
   "execution_count": 91,
   "id": "4af62c95-a32f-4dd0-a61d-fef70dc1f028",
   "metadata": {},
   "outputs": [],
   "source": [
    "final_df = va_df.select([\"features\", \"label\"])"
   ]
  },
  {
   "cell_type": "code",
   "execution_count": 92,
   "id": "b9efc1ea-8bc2-4669-9f09-7ee6682b35a7",
   "metadata": {},
   "outputs": [
    {
     "name": "stdout",
     "output_type": "stream",
     "text": [
      "+--------------------+-----+\n",
      "|            features|label|\n",
      "+--------------------+-----+\n",
      "|[42.0,11066.8,0.0...|    1|\n",
      "|[41.0,11916.22,0....|    1|\n",
      "|[38.0,12884.75,0....|    1|\n",
      "+--------------------+-----+\n",
      "only showing top 3 rows\n",
      "\n"
     ]
    }
   ],
   "source": [
    "final_df.show(3)"
   ]
  },
  {
   "cell_type": "code",
   "execution_count": 93,
   "id": "aedbda95-cc22-4776-80e1-3f4d6b6c31ad",
   "metadata": {},
   "outputs": [],
   "source": [
    "# test-train "
   ]
  },
  {
   "cell_type": "code",
   "execution_count": 94,
   "id": "524caf45-d595-4b75-ac88-5ebe5bd39644",
   "metadata": {},
   "outputs": [],
   "source": [
    "splits = final_df.randomSplit([0.70,0.30])\n",
    "train_df = splits[0]\n",
    "test_df = splits[1]"
   ]
  },
  {
   "cell_type": "code",
   "execution_count": 95,
   "id": "0a7f0391-70bb-498b-90a4-3d5c1a642e10",
   "metadata": {},
   "outputs": [
    {
     "data": {
      "text/plain": [
       "DataFrame[features: vector, label: int]"
      ]
     },
     "execution_count": 95,
     "metadata": {},
     "output_type": "execute_result"
    }
   ],
   "source": [
    "train_df"
   ]
  },
  {
   "cell_type": "code",
   "execution_count": 97,
   "id": "1f245d76-4c83-4a56-843d-810f8a015d10",
   "metadata": {},
   "outputs": [
    {
     "data": {
      "text/plain": [
       "DataFrame[features: vector, label: int]"
      ]
     },
     "execution_count": 97,
     "metadata": {},
     "output_type": "execute_result"
    }
   ],
   "source": [
    "test_df"
   ]
  },
  {
   "cell_type": "markdown",
   "id": "8114cdb1-7663-43fb-bbca-b09bc6e8e797",
   "metadata": {},
   "source": [
    "### GBM ile Müşteri Terk Modellemesi\n",
    "\n",
    "Bu modelleme ile yeni müşteriler geldiğinde yeni müşterilerin bizi terk edip etmeyeceğini tahminlemiş olacağız.\n",
    "\n",
    "Bağımlı değişkenler için features, bağımsızlar için label. "
   ]
  },
  {
   "cell_type": "code",
   "execution_count": 101,
   "id": "4f0a5c16-b69d-49e6-a754-5aed72c31285",
   "metadata": {},
   "outputs": [],
   "source": [
    "from pyspark.ml.classification import GBTClassifier"
   ]
  },
  {
   "cell_type": "code",
   "execution_count": 102,
   "id": "5785b8e4-a69b-4c06-8363-1d70ffdca670",
   "metadata": {},
   "outputs": [],
   "source": [
    "gbm = GBTClassifier(maxIter = 10, featuresCol = \"features\", labelCol = \"label\")"
   ]
  },
  {
   "cell_type": "code",
   "execution_count": 104,
   "id": "19e2720f-9354-4f87-b814-681155ad4c4f",
   "metadata": {},
   "outputs": [],
   "source": [
    "gbm_model = gbm.fit(train_df)"
   ]
  },
  {
   "cell_type": "code",
   "execution_count": 105,
   "id": "b12175bb-ca2d-493e-b9c9-d5506b432795",
   "metadata": {
    "collapsed": true,
    "jupyter": {
     "outputs_hidden": true
    },
    "tags": []
   },
   "outputs": [
    {
     "data": {
      "text/html": [
       "\n",
       "        <div>\n",
       "            <p><b>SparkContext</b></p>\n",
       "\n",
       "            <p><a href=\"http://MERVE-OZTIRYAKI:4040\">Spark UI</a></p>\n",
       "\n",
       "            <dl>\n",
       "              <dt>Version</dt>\n",
       "                <dd><code>v3.2.3</code></dd>\n",
       "              <dt>Master</dt>\n",
       "                <dd><code>local</code></dd>\n",
       "              <dt>AppName</dt>\n",
       "                <dd><code>pyspark_giris</code></dd>\n",
       "            </dl>\n",
       "        </div>\n",
       "        "
      ],
      "text/plain": [
       "<SparkContext master=local appName=pyspark_giris>"
      ]
     },
     "execution_count": 105,
     "metadata": {},
     "output_type": "execute_result"
    }
   ],
   "source": [
    "sc"
   ]
  },
  {
   "cell_type": "code",
   "execution_count": 106,
   "id": "35436f77-ed09-4957-a2bf-cb4bd947273a",
   "metadata": {},
   "outputs": [],
   "source": [
    "y_pred = gbm_model.transform(test_df)"
   ]
  },
  {
   "cell_type": "code",
   "execution_count": 107,
   "id": "2eb95c0e-ba97-4bab-af8b-99fbfe9b7f48",
   "metadata": {},
   "outputs": [
    {
     "data": {
      "text/plain": [
       "DataFrame[features: vector, label: int, rawPrediction: vector, probability: vector, prediction: double]"
      ]
     },
     "execution_count": 107,
     "metadata": {},
     "output_type": "execute_result"
    }
   ],
   "source": [
    "y_pred"
   ]
  },
  {
   "cell_type": "code",
   "execution_count": 109,
   "id": "b999fde1-4643-4958-8dfe-28f337e16f35",
   "metadata": {},
   "outputs": [],
   "source": [
    "ac = y_pred.select(\"label\",\"prediction\")"
   ]
  },
  {
   "cell_type": "code",
   "execution_count": 111,
   "id": "ef03ec61-eb67-4659-bb4b-5fabc386d97d",
   "metadata": {},
   "outputs": [
    {
     "data": {
      "text/plain": [
       "0.8565573770491803"
      ]
     },
     "execution_count": 111,
     "metadata": {},
     "output_type": "execute_result"
    }
   ],
   "source": [
    "ac.filter(ac.label == ac.prediction).count()/ac.count()"
   ]
  },
  {
   "cell_type": "markdown",
   "id": "1c28a35d-8bb8-44b6-9920-e0cc004853fd",
   "metadata": {},
   "source": [
    "### Model Tuning"
   ]
  },
  {
   "cell_type": "code",
   "execution_count": 113,
   "id": "d44aad37-eae4-48ec-bf19-083dc3ee0b85",
   "metadata": {},
   "outputs": [],
   "source": [
    "from pyspark.ml.evaluation import BinaryClassificationEvaluator\n",
    "from pyspark.ml.tuning import ParamGridBuilder, CrossValidator\n",
    "\n",
    "evaluator = BinaryClassificationEvaluator()\n",
    "\n",
    "paramGrid = (ParamGridBuilder()\n",
    "             .addGrid(gbm.maxDepth, [2, 4, 6])\n",
    "             .addGrid(gbm.maxBins, [20, 30])\n",
    "             .addGrid(gbm.maxIter, [10, 20])\n",
    "             .build())\n",
    "\n",
    "cv = CrossValidator(estimator=gbm, estimatorParamMaps=paramGrid, evaluator=evaluator, numFolds=10) "
   ]
  },
  {
   "cell_type": "code",
   "execution_count": 114,
   "id": "5f71572d-998b-4246-9173-ea4592ddaa0c",
   "metadata": {},
   "outputs": [],
   "source": [
    "cvModel = cv.fit(train_df)"
   ]
  },
  {
   "cell_type": "code",
   "execution_count": 115,
   "id": "275f68b5-3c98-4e41-8d81-732887dc8ea3",
   "metadata": {},
   "outputs": [],
   "source": [
    "y_pred = cvModel.transform(test_df)"
   ]
  },
  {
   "cell_type": "code",
   "execution_count": 116,
   "id": "ae23f946-092f-4f43-9a0a-7619a7678fa1",
   "metadata": {},
   "outputs": [],
   "source": [
    "ac = y_pred.select(\"label\",\"prediction\")"
   ]
  },
  {
   "cell_type": "code",
   "execution_count": 119,
   "id": "5be655cd-18f8-491f-8135-1ccdb2caaf1b",
   "metadata": {},
   "outputs": [
    {
     "data": {
      "text/plain": [
       "0.8729508196721312"
      ]
     },
     "execution_count": 119,
     "metadata": {},
     "output_type": "execute_result"
    }
   ],
   "source": [
    "ac.filter(ac.label == ac.prediction).count() / ac.count()"
   ]
  },
  {
   "cell_type": "code",
   "execution_count": 120,
   "id": "51cde333-a5ec-43c5-8f0a-f06617272cec",
   "metadata": {},
   "outputs": [],
   "source": [
    "# yeni müşteri terk eder mi etmez mi?"
   ]
  },
  {
   "cell_type": "code",
   "execution_count": 122,
   "id": "8255168b-1c0f-481a-88c1-644eb54d64d1",
   "metadata": {},
   "outputs": [],
   "source": [
    "import pandas as pd"
   ]
  },
  {
   "cell_type": "code",
   "execution_count": 124,
   "id": "fe34729d-5173-48c3-bc85-8700d6de6dae",
   "metadata": {},
   "outputs": [
    {
     "data": {
      "text/plain": [
       "Index(['names', 'age', 'total_purchase', 'account_manager', 'years',\n",
       "       'num_sites'],\n",
       "      dtype='object')"
      ]
     },
     "execution_count": 124,
     "metadata": {},
     "output_type": "execute_result"
    }
   ],
   "source": [
    "# Önce bir dataframe oluşturduk \n",
    "\n",
    "names = pd.Series([\"Ayşe Alioğlu\", \"Veli Velioğlu\", \"Hilmi\", \"Furkan Furkanoğlu\", \"Kemal Kemaloğlu\"])\n",
    "age = pd.Series([38, 43, 34, 50, 40])\n",
    "total_purchase = pd.Series([30000, 10000, 6000, 30000, 100000])\n",
    "account_manager = pd.Series([1,0,0,1,1])\n",
    "years = pd.Series([20,10,3,8,30])\n",
    "num_sites = pd.Series([30,8,8,6,50])\n",
    "\n",
    "yeni_musteriler = pd.DataFrame({\n",
    "    'names': names,\n",
    "    'age': age,\n",
    "    'total_purchase': total_purchase,\n",
    "    'account_manager': account_manager,\n",
    "    'years': years,\n",
    "    'num_sites':num_sites})\n",
    "\n",
    "yeni_musteriler.columns "
   ]
  },
  {
   "cell_type": "code",
   "execution_count": 125,
   "id": "f4c0b16f-e08a-4424-b99c-4f607cc8499d",
   "metadata": {},
   "outputs": [],
   "source": [
    "# Sonra bunu büyük veri ortamının anlayacağı dile göndermemiz gerekiyor. \n",
    "# yani spark data frame'e çevireceğiz.\n",
    "\n",
    "yeni_sdf = spark.createDataFrame(yeni_musteriler)"
   ]
  },
  {
   "cell_type": "code",
   "execution_count": 126,
   "id": "aa606c1f-3bca-44aa-84ae-ee0784d8fb94",
   "metadata": {},
   "outputs": [
    {
     "name": "stdout",
     "output_type": "stream",
     "text": [
      "+-----------------+---+--------------+---------------+-----+---------+\n",
      "|            names|age|total_purchase|account_manager|years|num_sites|\n",
      "+-----------------+---+--------------+---------------+-----+---------+\n",
      "|     Ayşe Alioğlu| 38|         30000|              1|   20|       30|\n",
      "|    Veli Velioğlu| 43|         10000|              0|   10|        8|\n",
      "|            Hilmi| 34|          6000|              0|    3|        8|\n",
      "|Furkan Furkanoğlu| 50|         30000|              1|    8|        6|\n",
      "|  Kemal Kemaloğlu| 40|        100000|              1|   30|       50|\n",
      "+-----------------+---+--------------+---------------+-----+---------+\n",
      "\n"
     ]
    }
   ],
   "source": [
    "yeni_sdf.show()"
   ]
  },
  {
   "cell_type": "code",
   "execution_count": 127,
   "id": "af6eae9b-4b78-4eee-bf0c-89ab0362278a",
   "metadata": {},
   "outputs": [],
   "source": [
    "# Moodel nesnesinin anlayacağı formata çevireceğiz. Vektor tipine döndüreceğiz. "
   ]
  },
  {
   "cell_type": "code",
   "execution_count": 131,
   "id": "f8e01ab3-cd2c-46fe-9f6b-54053ae739a1",
   "metadata": {},
   "outputs": [],
   "source": [
    "yeni_musteriler = vectorAssembler.transform(yeni_sdf)"
   ]
  },
  {
   "cell_type": "code",
   "execution_count": 132,
   "id": "fd90eedb-dfd6-4d63-a8d1-a8a8ec591bf9",
   "metadata": {},
   "outputs": [],
   "source": [
    "results = cvModel.transform(yeni_musteriler)"
   ]
  },
  {
   "cell_type": "code",
   "execution_count": 134,
   "id": "4e2e1607-8b76-4073-8dfc-04aa680c60bd",
   "metadata": {},
   "outputs": [
    {
     "name": "stdout",
     "output_type": "stream",
     "text": [
      "+-----------------+----------+\n",
      "|            names|prediction|\n",
      "+-----------------+----------+\n",
      "|     Ayşe Alioğlu|       1.0|\n",
      "|    Veli Velioğlu|       0.0|\n",
      "|            Hilmi|       0.0|\n",
      "|Furkan Furkanoğlu|       0.0|\n",
      "|  Kemal Kemaloğlu|       1.0|\n",
      "+-----------------+----------+\n",
      "\n"
     ]
    }
   ],
   "source": [
    "results.select(\"names\",\"prediction\").show()"
   ]
  },
  {
   "cell_type": "code",
   "execution_count": 135,
   "id": "0efc19c5-bd33-40b5-8ea3-89000215c04d",
   "metadata": {},
   "outputs": [],
   "source": [
    "# 1'ler terk ediyor, 0'lar terk etmiyor olarak geldi. "
   ]
  },
  {
   "cell_type": "code",
   "execution_count": 137,
   "id": "16f6ed8e-fe80-4e0e-ac76-c6425223a1c2",
   "metadata": {},
   "outputs": [],
   "source": [
    "# sc.stop()"
   ]
  }
 ],
 "metadata": {
  "kernelspec": {
   "display_name": "Python 3 (ipykernel)",
   "language": "python",
   "name": "python3"
  },
  "language_info": {
   "codemirror_mode": {
    "name": "ipython",
    "version": 3
   },
   "file_extension": ".py",
   "mimetype": "text/x-python",
   "name": "python",
   "nbconvert_exporter": "python",
   "pygments_lexer": "ipython3",
   "version": "3.9.13"
  }
 },
 "nbformat": 4,
 "nbformat_minor": 5
}
